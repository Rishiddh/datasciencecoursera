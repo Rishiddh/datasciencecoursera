{
  "nbformat": 4,
  "nbformat_minor": 0,
  "metadata": {
    "colab": {
      "name": "Untitled0.ipynb",
      "provenance": [],
      "authorship_tag": "ABX9TyOCmogAMBB7TEfXyND5oNMz",
      "include_colab_link": true
    },
    "kernelspec": {
      "name": "python3",
      "display_name": "Python 3"
    }
  },
  "cells": [
    {
      "cell_type": "markdown",
      "metadata": {
        "id": "view-in-github",
        "colab_type": "text"
      },
      "source": [
        "<a href=\"https://colab.research.google.com/github/Rishiddh/datasciencecoursera/blob/master/Untitled0.ipynb\" target=\"_parent\"><img src=\"https://colab.research.google.com/assets/colab-badge.svg\" alt=\"Open In Colab\"/></a>"
      ]
    },
    {
      "cell_type": "code",
      "metadata": {
        "colab": {
          "base_uri": "https://localhost:8080/"
        },
        "id": "0VtMDY9jTG6O",
        "outputId": "be470470-8f21-4f66-f9f0-e5b37c9fc11a"
      },
      "source": [
        "print(\"Hello World\")"
      ],
      "execution_count": 1,
      "outputs": [
        {
          "output_type": "stream",
          "text": [
            "Hello World\n"
          ],
          "name": "stdout"
        }
      ]
    },
    {
      "cell_type": "code",
      "metadata": {
        "colab": {
          "base_uri": "https://localhost:8080/"
        },
        "id": "OQsSEBp8UX0w",
        "outputId": "4ef74daf-0f37-4688-a189-dfa66b385468"
      },
      "source": [
        "2+10 # this will not be shown in the output since print is not there\n",
        "print(2*4) # in case you do not have print, only the last executuon will be displayed\n",
        "print(2/4)\n",
        "print(22/5)\n",
        "print(22//5) # floor division # gives only the ___ ignores the remainder\n",
        "\"\"\" multiline comments\n",
        "needs 3 quotation marks \"\"\"\n",
        "print(22%5) # this only gives the remainder\n",
        "print(2**4)\n"
      ],
      "execution_count": 10,
      "outputs": [
        {
          "output_type": "stream",
          "text": [
            "8\n",
            "0.5\n",
            "4.4\n",
            "4\n",
            "2\n",
            "16\n"
          ],
          "name": "stdout"
        }
      ]
    },
    {
      "cell_type": "code",
      "metadata": {
        "colab": {
          "base_uri": "https://localhost:8080/"
        },
        "id": "lUw30fsCV9Ra",
        "outputId": "3bcc3c30-35fd-4b03-d954-9a5c294c2532"
      },
      "source": [
        "5 # integer\n",
        "\"5\" #strings\n",
        "5.0 #float #in python by default everything is double precision floats, 2 values after decimal\n",
        "\n"
      ],
      "execution_count": 11,
      "outputs": [
        {
          "output_type": "execute_result",
          "data": {
            "text/plain": [
              "5.0"
            ]
          },
          "metadata": {
            "tags": []
          },
          "execution_count": 11
        }
      ]
    },
    {
      "cell_type": "code",
      "metadata": {
        "colab": {
          "base_uri": "https://localhost:8080/"
        },
        "id": "Pt0q2pPAZyG5",
        "outputId": "4cb688d5-393b-4b75-94df-79ed5b7259f2"
      },
      "source": [
        "\"5\"+\"5\"\n",
        "\"5\"*4\n",
        "\"hello\"*4\n",
        "int(\"5\")*4\n",
        "#int(\"hel\")*4\n",
        "str(5)*4\n",
        "float(5)"
      ],
      "execution_count": 19,
      "outputs": [
        {
          "output_type": "execute_result",
          "data": {
            "text/plain": [
              "5.0"
            ]
          },
          "metadata": {
            "tags": []
          },
          "execution_count": 19
        }
      ]
    }
  ]
}