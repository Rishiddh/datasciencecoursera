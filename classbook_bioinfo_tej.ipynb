{
  "nbformat": 4,
  "nbformat_minor": 0,
  "metadata": {
    "colab": {
      "name": "classbook_bioinfo_tej.ipynb",
      "provenance": [],
      "authorship_tag": "ABX9TyMB7qXsD5ZPB8DFuDho63f8",
      "include_colab_link": true
    },
    "kernelspec": {
      "name": "python3",
      "display_name": "Python 3"
    }
  },
  "cells": [
    {
      "cell_type": "markdown",
      "metadata": {
        "id": "view-in-github",
        "colab_type": "text"
      },
      "source": [
        "<a href=\"https://colab.research.google.com/github/Rishiddh/datasciencecoursera/blob/master/classbook_bioinfo_tej.ipynb\" target=\"_parent\"><img src=\"https://colab.research.google.com/assets/colab-badge.svg\" alt=\"Open In Colab\"/></a>"
      ]
    },
    {
      "cell_type": "code",
      "metadata": {
        "colab": {
          "base_uri": "https://localhost:8080/"
        },
        "id": "0VtMDY9jTG6O",
        "outputId": "be470470-8f21-4f66-f9f0-e5b37c9fc11a"
      },
      "source": [
        "print(\"Hello World\")"
      ],
      "execution_count": 1,
      "outputs": [
        {
          "output_type": "stream",
          "text": [
            "Hello World\n"
          ],
          "name": "stdout"
        }
      ]
    },
    {
      "cell_type": "code",
      "metadata": {
        "colab": {
          "base_uri": "https://localhost:8080/"
        },
        "id": "OQsSEBp8UX0w",
        "outputId": "4ef74daf-0f37-4688-a189-dfa66b385468"
      },
      "source": [
        "2+10 # this will not be shown in the output since print is not there\n",
        "print(2*4) # in case you do not have print, only the last executuon will be displayed\n",
        "print(2/4)\n",
        "print(22/5)\n",
        "print(22//5) # floor division # gives only the ___ ignores the remainder\n",
        "\"\"\" multiline comments\n",
        "needs 3 quotation marks \"\"\"\n",
        "print(22%5) # this only gives the remainder\n",
        "print(2**4)\n"
      ],
      "execution_count": 10,
      "outputs": [
        {
          "output_type": "stream",
          "text": [
            "8\n",
            "0.5\n",
            "4.4\n",
            "4\n",
            "2\n",
            "16\n"
          ],
          "name": "stdout"
        }
      ]
    },
    {
      "cell_type": "code",
      "metadata": {
        "colab": {
          "base_uri": "https://localhost:8080/"
        },
        "id": "lUw30fsCV9Ra",
        "outputId": "3bcc3c30-35fd-4b03-d954-9a5c294c2532"
      },
      "source": [
        "5 # integer\n",
        "\"5\" #strings\n",
        "5.0 #float #in python by default everything is double precision floats, 2 values after decimal\n",
        "\n"
      ],
      "execution_count": 11,
      "outputs": [
        {
          "output_type": "execute_result",
          "data": {
            "text/plain": [
              "5.0"
            ]
          },
          "metadata": {
            "tags": []
          },
          "execution_count": 11
        }
      ]
    },
    {
      "cell_type": "code",
      "metadata": {
        "colab": {
          "base_uri": "https://localhost:8080/"
        },
        "id": "Pt0q2pPAZyG5",
        "outputId": "4e2a4dca-bd79-4e98-9d15-8f0a3d40cf5c"
      },
      "source": [
        "\"5\"+\"5\"\n",
        "\"5\"*4\n",
        "\"hello\"*4\n",
        "int(\"5\")*4\n",
        "#int(\"hel\")*4\n",
        "str(5)*4\n",
        "float(5)\n",
        "int(.4)"
      ],
      "execution_count": 24,
      "outputs": [
        {
          "output_type": "execute_result",
          "data": {
            "text/plain": [
              "0"
            ]
          },
          "metadata": {
            "tags": []
          },
          "execution_count": 24
        }
      ]
    },
    {
      "cell_type": "code",
      "metadata": {
        "id": "e_9Z-MnLblw_"
      },
      "source": [
        ""
      ],
      "execution_count": null,
      "outputs": []
    }
  ]
}